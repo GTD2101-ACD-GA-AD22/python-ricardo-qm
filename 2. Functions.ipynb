{
  "nbformat": 4,
  "nbformat_minor": 0,
  "metadata": {
    "colab": {
      "name": "ej-helloworldjnb.ipynb",
      "provenance": [],
      "authorship_tag": "ABX9TyO6iFxNpht/0kgSmB7UJL91"
    },
    "kernelspec": {
      "name": "python3",
      "display_name": "Python 3"
    },
    "language_info": {
      "name": "python"
    }
  },
  "cells": [
    {
      "cell_type": "code",
      "execution_count": null,
      "metadata": {
        "id": "IZfpsPl-FVy7"
      },
      "outputs": [],
      "source": [
        "print(\"Hola Mundo!\")"
      ]
    }
  ]
}