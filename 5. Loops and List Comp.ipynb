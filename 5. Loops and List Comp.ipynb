{
  "nbformat": 4,
  "nbformat_minor": 0,
  "metadata": {
    "colab": {
      "name": "ej-helloworldjnb.ipynb",
      "provenance": [],
      "authorship_tag": "ABX9TyMVzgqEfZ+VtRvuNc2olcW9",
      "include_colab_link": true
    },
    "kernelspec": {
      "name": "python3",
      "display_name": "Python 3"
    },
    "language_info": {
      "name": "python"
    }
  },
  "cells": [
    {
      "cell_type": "markdown",
      "metadata": {
        "id": "view-in-github",
        "colab_type": "text"
      },
      "source": [
        "<a href=\"https://colab.research.google.com/github/GTD2101-ACD-GA-AD22/python-ricardo-qm/blob/main/5.%20Loops%20and%20List%20Comp.ipynb\" target=\"_parent\"><img src=\"https://colab.research.google.com/assets/colab-badge.svg\" alt=\"Open In Colab\"/></a>"
      ]
    },
    {
      "cell_type": "markdown",
      "source": [
        "# Loops and List Comprehension\n",
        "\n",
        "Manejo de Ciclos y procesamiento de listas"
      ],
      "metadata": {
        "id": "nWOJvU6XqvZi"
      }
    },
    {
      "cell_type": "code",
      "execution_count": 1,
      "metadata": {
        "id": "IZfpsPl-FVy7",
        "outputId": "8ab3df06-7e64-4c04-aae1-2c31ef7001f0",
        "colab": {
          "base_uri": "https://localhost:8080/"
        }
      },
      "outputs": [
        {
          "output_type": "stream",
          "name": "stdout",
          "text": [
            "Mercury Venus Earth Mars Jupiter Saturn Uranus Neptune "
          ]
        }
      ],
      "source": [
        "planets = ['Mercury', 'Venus', 'Earth', 'Mars', 'Jupiter', 'Saturn', 'Uranus', 'Neptune']\n",
        "for planet in planets:\n",
        "    print(planet, end=' ') # print all on same line"
      ]
    },
    {
      "cell_type": "code",
      "source": [
        "multiplicands = (2, 2, 2, 3, 3, 5)\n",
        "product = 1\n",
        "for mult in multiplicands:\n",
        "    product = product * mult\n",
        "product"
      ],
      "metadata": {
        "id": "qX9Hn7k8sIfD",
        "outputId": "a96b8152-142b-4f97-edd4-abfe234d7579",
        "colab": {
          "base_uri": "https://localhost:8080/"
        }
      },
      "execution_count": 2,
      "outputs": [
        {
          "output_type": "execute_result",
          "data": {
            "text/plain": [
              "360"
            ]
          },
          "metadata": {},
          "execution_count": 2
        }
      ]
    },
    {
      "cell_type": "code",
      "source": [
        "s = 'steganograpHy is the practicE of conceaLing a file, message, image, or video within another fiLe, message, image, Or video.'\n",
        "msg = ''\n",
        "# print all the uppercase letters in s, one at a time\n",
        "for char in s:\n",
        "    if char.isupper():\n",
        "        print(char, end='')  "
      ],
      "metadata": {
        "id": "MsjBkhEVsd5Y",
        "outputId": "01fce26e-9fcf-41c1-c61d-a30d1fc24f0b",
        "colab": {
          "base_uri": "https://localhost:8080/"
        }
      },
      "execution_count": 3,
      "outputs": [
        {
          "output_type": "stream",
          "name": "stdout",
          "text": [
            "HELLO"
          ]
        }
      ]
    },
    {
      "cell_type": "markdown",
      "source": [
        "# range\n",
        "\n",
        "Esta función permite hacer ciclos for de 0 a n, incluyendo un paso entre cada valor (opcional):"
      ],
      "metadata": {
        "id": "RM_SoBHGtZ4B"
      }
    },
    {
      "cell_type": "code",
      "source": [
        "for i in range(5):\n",
        "    print(\"Doing important work. i =\", i)"
      ],
      "metadata": {
        "id": "EDqw04-dthaR",
        "outputId": "39caacde-f269-4c43-8cee-b11214181852",
        "colab": {
          "base_uri": "https://localhost:8080/"
        }
      },
      "execution_count": 4,
      "outputs": [
        {
          "output_type": "stream",
          "name": "stdout",
          "text": [
            "Doing important work. i = 0\n",
            "Doing important work. i = 1\n",
            "Doing important work. i = 2\n",
            "Doing important work. i = 3\n",
            "Doing important work. i = 4\n"
          ]
        }
      ]
    },
    {
      "cell_type": "code",
      "source": [
        "for i in range(1,6):\n",
        "    print(\"Doing important work. i =\", i)"
      ],
      "metadata": {
        "id": "QVdRRvcstzRJ",
        "outputId": "57049c61-c8fe-4110-84f7-257929aced9b",
        "colab": {
          "base_uri": "https://localhost:8080/"
        }
      },
      "execution_count": 5,
      "outputs": [
        {
          "output_type": "stream",
          "name": "stdout",
          "text": [
            "Doing important work. i = 1\n",
            "Doing important work. i = 2\n",
            "Doing important work. i = 3\n",
            "Doing important work. i = 4\n",
            "Doing important work. i = 5\n"
          ]
        }
      ]
    },
    {
      "cell_type": "code",
      "source": [
        "for i in range(1,10,2):\n",
        "    print(\"Doing important work. i =\", i)"
      ],
      "metadata": {
        "id": "fhSaWsp-t5Ph",
        "outputId": "9220f7ff-bd1a-4e9b-be72-ed3a40441b62",
        "colab": {
          "base_uri": "https://localhost:8080/"
        }
      },
      "execution_count": 6,
      "outputs": [
        {
          "output_type": "stream",
          "name": "stdout",
          "text": [
            "Doing important work. i = 1\n",
            "Doing important work. i = 3\n",
            "Doing important work. i = 5\n",
            "Doing important work. i = 7\n",
            "Doing important work. i = 9\n"
          ]
        }
      ]
    },
    {
      "cell_type": "code",
      "source": [
        "for i in range(10,0,-1):\n",
        "    print(\"Doing important work. i =\", i)"
      ],
      "metadata": {
        "id": "9e1UQlojuDuh",
        "outputId": "5176facb-ad8b-467e-aeec-9db908aabfbd",
        "colab": {
          "base_uri": "https://localhost:8080/"
        }
      },
      "execution_count": 7,
      "outputs": [
        {
          "output_type": "stream",
          "name": "stdout",
          "text": [
            "Doing important work. i = 10\n",
            "Doing important work. i = 9\n",
            "Doing important work. i = 8\n",
            "Doing important work. i = 7\n",
            "Doing important work. i = 6\n",
            "Doing important work. i = 5\n",
            "Doing important work. i = 4\n",
            "Doing important work. i = 3\n",
            "Doing important work. i = 2\n",
            "Doing important work. i = 1\n"
          ]
        }
      ]
    },
    {
      "cell_type": "markdown",
      "source": [
        "# Ciclo while\n",
        "\n",
        "Este ciclo se mantiene mientras una condición booleana es verdadera."
      ],
      "metadata": {
        "id": "SgQQie02uSsp"
      }
    },
    {
      "cell_type": "code",
      "source": [
        "i = 0\n",
        "while i < 10:\n",
        "    print(i, end=' ')\n",
        "    i += 1 # increase the value of i by 1"
      ],
      "metadata": {
        "id": "ZISjKFBhuYOY",
        "outputId": "16e6a53f-1dd0-409b-8cd3-f10a0022a893",
        "colab": {
          "base_uri": "https://localhost:8080/"
        }
      },
      "execution_count": 8,
      "outputs": [
        {
          "output_type": "stream",
          "name": "stdout",
          "text": [
            "0 1 2 3 4 5 6 7 8 9 "
          ]
        }
      ]
    },
    {
      "cell_type": "markdown",
      "source": [
        "# List comprehensions\n",
        "\n",
        "Este tipo de estructura permite procesar una lista para obtener otra lista. Es como un tipo de función matemática que recibiera como parámetro una lista, la procesa y entrega otra lista. En resumen: una correspondencia entre listas."
      ],
      "metadata": {
        "id": "PiewMscdu4up"
      }
    },
    {
      "cell_type": "code",
      "source": [
        "squares = [n**2 for n in range(10)]\n",
        "squares"
      ],
      "metadata": {
        "id": "-QAgqmYPvEvg",
        "outputId": "b91133d3-b8fe-4262-9bc2-8f2aea10f33d",
        "colab": {
          "base_uri": "https://localhost:8080/"
        }
      },
      "execution_count": 9,
      "outputs": [
        {
          "output_type": "execute_result",
          "data": {
            "text/plain": [
              "[0, 1, 4, 9, 16, 25, 36, 49, 64, 81]"
            ]
          },
          "metadata": {},
          "execution_count": 9
        }
      ]
    },
    {
      "cell_type": "code",
      "source": [
        "short_planets = [planet for planet in planets if len(planet) < 6]\n",
        "short_planets"
      ],
      "metadata": {
        "id": "CAndsCFAw1kY",
        "outputId": "bdd9cb26-f13f-4337-97eb-586a07d478e6",
        "colab": {
          "base_uri": "https://localhost:8080/"
        }
      },
      "execution_count": 10,
      "outputs": [
        {
          "output_type": "execute_result",
          "data": {
            "text/plain": [
              "['Venus', 'Earth', 'Mars']"
            ]
          },
          "metadata": {},
          "execution_count": 10
        }
      ]
    },
    {
      "cell_type": "code",
      "source": [
        "# str.upper() returns an all-caps version of a string\n",
        "loud_short_planets = [planet.upper() + '!' for planet in planets if len(planet) < 6]\n",
        "\n",
        "loud_short_planets"
      ],
      "metadata": {
        "id": "xN8FvUZqxWMR",
        "outputId": "b79c1eeb-3906-41d7-94e0-1c4e1af1403d",
        "colab": {
          "base_uri": "https://localhost:8080/"
        }
      },
      "execution_count": 11,
      "outputs": [
        {
          "output_type": "execute_result",
          "data": {
            "text/plain": [
              "['VENUS!', 'EARTH!', 'MARS!']"
            ]
          },
          "metadata": {},
          "execution_count": 11
        }
      ]
    },
    {
      "cell_type": "code",
      "source": [
        "[32 for planet in planets]"
      ],
      "metadata": {
        "id": "8_ypMfIPxqEf",
        "outputId": "33d3ae91-e258-46d2-f2c2-102c7e4e84fe",
        "colab": {
          "base_uri": "https://localhost:8080/"
        }
      },
      "execution_count": 12,
      "outputs": [
        {
          "output_type": "execute_result",
          "data": {
            "text/plain": [
              "[32, 32, 32, 32, 32, 32, 32, 32]"
            ]
          },
          "metadata": {},
          "execution_count": 12
        }
      ]
    },
    {
      "cell_type": "code",
      "source": [
        "def count_negatives(nums):\n",
        "    return len([num for num in nums if num < 0])\n",
        "\n",
        "count_negatives([2, -4, 6, 8, -1])"
      ],
      "metadata": {
        "id": "ubRNVza8yMG3",
        "outputId": "81f50d99-1dae-4ac4-d5b6-c2f298785d98",
        "colab": {
          "base_uri": "https://localhost:8080/"
        }
      },
      "execution_count": 13,
      "outputs": [
        {
          "output_type": "execute_result",
          "data": {
            "text/plain": [
              "2"
            ]
          },
          "metadata": {},
          "execution_count": 13
        }
      ]
    },
    {
      "cell_type": "code",
      "source": [
        "def count_negatives(nums):\n",
        "    # Reminder: in the \"booleans and conditionals\" exercises, we learned about a quirk of \n",
        "    # Python where it calculates something like True + True + False + True to be equal to 3.\n",
        "    return sum([num < 0 for num in nums])\n",
        "\n",
        "count_negatives([2, -4, 6, 8, -1])"
      ],
      "metadata": {
        "id": "gpi-bKTWyUCY",
        "outputId": "3e565dbc-e711-4174-e5c9-03f8778ff925",
        "colab": {
          "base_uri": "https://localhost:8080/"
        }
      },
      "execution_count": 14,
      "outputs": [
        {
          "output_type": "execute_result",
          "data": {
            "text/plain": [
              "2"
            ]
          },
          "metadata": {},
          "execution_count": 14
        }
      ]
    }
  ]
}