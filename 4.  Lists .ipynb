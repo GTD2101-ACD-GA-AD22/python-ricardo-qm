{
  "nbformat": 4,
  "nbformat_minor": 0,
  "metadata": {
    "colab": {
      "name": "ej-helloworldjnb.ipynb",
      "provenance": [],
      "authorship_tag": "ABX9TyMKKVRrpIUMO+RHExqgGToX",
      "include_colab_link": true
    },
    "kernelspec": {
      "name": "python3",
      "display_name": "Python 3"
    },
    "language_info": {
      "name": "python"
    }
  },
  "cells": [
    {
      "cell_type": "markdown",
      "metadata": {
        "id": "view-in-github",
        "colab_type": "text"
      },
      "source": [
        "<a href=\"https://colab.research.google.com/github/GTD2101-ACD-GA-AD22/python-ricardo-qm/blob/main/4.%20%20Lists%20.ipynb\" target=\"_parent\"><img src=\"https://colab.research.google.com/assets/colab-badge.svg\" alt=\"Open In Colab\"/></a>"
      ]
    },
    {
      "cell_type": "markdown",
      "source": [
        "# Listas\n",
        "\n",
        "Se revisarán algunos temas adicionales de manejo de listas y colecciones:"
      ],
      "metadata": {
        "id": "yUe9k8N5g09Y"
      }
    },
    {
      "cell_type": "code",
      "execution_count": 32,
      "metadata": {
        "id": "IZfpsPl-FVy7"
      },
      "outputs": [],
      "source": [
        "primes = [2, 3, 5, 7]\n",
        "\n",
        "planets = ['Mercury', 'Venus', 'Earth', 'Mars', 'Jupiter', 'Saturn', 'Uranus', 'Neptune']"
      ]
    },
    {
      "cell_type": "code",
      "source": [
        "hands = [\n",
        "    ['J', 'Q', 'K'],\n",
        "    ['2', '2', '2'],\n",
        "    ['6', 'A', 'K'], # (Comma after the last element is optional)\n",
        "]"
      ],
      "metadata": {
        "id": "AaFt918ohacU"
      },
      "execution_count": 33,
      "outputs": []
    },
    {
      "cell_type": "code",
      "source": [
        "hands"
      ],
      "metadata": {
        "id": "IEPJmbD6hk5E",
        "outputId": "05764e1e-becf-4621-8d0c-abe4a438b6fb",
        "colab": {
          "base_uri": "https://localhost:8080/"
        }
      },
      "execution_count": 34,
      "outputs": [
        {
          "output_type": "execute_result",
          "data": {
            "text/plain": [
              "[['J', 'Q', 'K'], ['2', '2', '2'], ['6', 'A', 'K']]"
            ]
          },
          "metadata": {},
          "execution_count": 34
        }
      ]
    },
    {
      "cell_type": "code",
      "source": [
        "hands[0][1]"
      ],
      "metadata": {
        "id": "Khwrrf0dh0tF",
        "outputId": "23e2346a-904e-4595-dda8-0e9bdaadab38",
        "colab": {
          "base_uri": "https://localhost:8080/",
          "height": 36
        }
      },
      "execution_count": 35,
      "outputs": [
        {
          "output_type": "execute_result",
          "data": {
            "text/plain": [
              "'Q'"
            ],
            "application/vnd.google.colaboratory.intrinsic+json": {
              "type": "string"
            }
          },
          "metadata": {},
          "execution_count": 35
        }
      ]
    },
    {
      "cell_type": "code",
      "source": [
        "my_favourite_things = [32, 'raindrops on roses', help]"
      ],
      "metadata": {
        "id": "ctyGyKTZiHMH"
      },
      "execution_count": 36,
      "outputs": []
    },
    {
      "cell_type": "code",
      "source": [
        "my_favourite_things"
      ],
      "metadata": {
        "id": "ZvQPKkcLiI_t",
        "outputId": "909ce068-07d2-4122-877d-4cd568037ea8",
        "colab": {
          "base_uri": "https://localhost:8080/"
        }
      },
      "execution_count": 37,
      "outputs": [
        {
          "output_type": "execute_result",
          "data": {
            "text/plain": [
              "[32,\n",
              " 'raindrops on roses',\n",
              " Type help() for interactive help, or help(object) for help about object.]"
            ]
          },
          "metadata": {},
          "execution_count": 37
        }
      ]
    },
    {
      "cell_type": "markdown",
      "source": [
        "# Slicing\n",
        "\n",
        "Esta operación permite obtener sublistas de una lista mediante indexamiento de rangos de valores"
      ],
      "metadata": {
        "id": "LPVF6oxSi8xk"
      }
    },
    {
      "cell_type": "code",
      "source": [
        "planets[0:3]"
      ],
      "metadata": {
        "id": "HXASdDDJjCkT",
        "outputId": "7cb5cfdb-19c0-4086-e033-3fc98beeaa65",
        "colab": {
          "base_uri": "https://localhost:8080/"
        }
      },
      "execution_count": 38,
      "outputs": [
        {
          "output_type": "execute_result",
          "data": {
            "text/plain": [
              "['Mercury', 'Venus', 'Earth']"
            ]
          },
          "metadata": {},
          "execution_count": 38
        }
      ]
    },
    {
      "cell_type": "code",
      "source": [
        "planets[:3]"
      ],
      "metadata": {
        "id": "5Ehavxm_jL3k",
        "outputId": "fc58f4de-9fac-4a7f-c133-e825b11ff81b",
        "colab": {
          "base_uri": "https://localhost:8080/"
        }
      },
      "execution_count": 39,
      "outputs": [
        {
          "output_type": "execute_result",
          "data": {
            "text/plain": [
              "['Mercury', 'Venus', 'Earth']"
            ]
          },
          "metadata": {},
          "execution_count": 39
        }
      ]
    },
    {
      "cell_type": "code",
      "source": [
        "planets[3:]"
      ],
      "metadata": {
        "id": "3Qt_dlHZjaxc",
        "outputId": "caa44272-cb48-4197-e52d-b8cb2709b9c6",
        "colab": {
          "base_uri": "https://localhost:8080/"
        }
      },
      "execution_count": 40,
      "outputs": [
        {
          "output_type": "execute_result",
          "data": {
            "text/plain": [
              "['Mars', 'Jupiter', 'Saturn', 'Uranus', 'Neptune']"
            ]
          },
          "metadata": {},
          "execution_count": 40
        }
      ]
    },
    {
      "cell_type": "code",
      "source": [
        "# All the planets except the first and last\n",
        "planets[1:-1]"
      ],
      "metadata": {
        "id": "1MDutu7OjwJL",
        "outputId": "c256a98e-880c-4eb4-c859-d45a2e15afc7",
        "colab": {
          "base_uri": "https://localhost:8080/"
        }
      },
      "execution_count": 41,
      "outputs": [
        {
          "output_type": "execute_result",
          "data": {
            "text/plain": [
              "['Venus', 'Earth', 'Mars', 'Jupiter', 'Saturn', 'Uranus']"
            ]
          },
          "metadata": {},
          "execution_count": 41
        }
      ]
    },
    {
      "cell_type": "code",
      "source": [
        "# The last 3 planets\n",
        "planets[-3:]"
      ],
      "metadata": {
        "id": "YapshEP8j8ML",
        "outputId": "5051371b-5f36-4c35-8732-6cb57f41137b",
        "colab": {
          "base_uri": "https://localhost:8080/"
        }
      },
      "execution_count": 42,
      "outputs": [
        {
          "output_type": "execute_result",
          "data": {
            "text/plain": [
              "['Saturn', 'Uranus', 'Neptune']"
            ]
          },
          "metadata": {},
          "execution_count": 42
        }
      ]
    },
    {
      "cell_type": "markdown",
      "source": [
        "# Cambiando listas\n",
        "\n",
        "Las listas son objetos cuyos métodos permiten su modificación de diversas maneras."
      ],
      "metadata": {
        "id": "OPu8-98YkAlJ"
      }
    },
    {
      "cell_type": "code",
      "source": [
        "planets[3] = 'Malacandra'\n",
        "planets"
      ],
      "metadata": {
        "id": "DVZaRVtkkGrD",
        "outputId": "c1989bd5-aa25-40dc-edc4-41a61b9b6608",
        "colab": {
          "base_uri": "https://localhost:8080/"
        }
      },
      "execution_count": 43,
      "outputs": [
        {
          "output_type": "execute_result",
          "data": {
            "text/plain": [
              "['Mercury',\n",
              " 'Venus',\n",
              " 'Earth',\n",
              " 'Malacandra',\n",
              " 'Jupiter',\n",
              " 'Saturn',\n",
              " 'Uranus',\n",
              " 'Neptune']"
            ]
          },
          "metadata": {},
          "execution_count": 43
        }
      ]
    },
    {
      "cell_type": "code",
      "source": [
        "planets[:3] = ['Mur', 'Vee', 'Ur']\n",
        "print(planets)"
      ],
      "metadata": {
        "id": "b5V6cMhrk-cr",
        "outputId": "e5912ced-ec04-4eca-9ff9-71e5cbb01d46",
        "colab": {
          "base_uri": "https://localhost:8080/"
        }
      },
      "execution_count": 44,
      "outputs": [
        {
          "output_type": "stream",
          "name": "stdout",
          "text": [
            "['Mur', 'Vee', 'Ur', 'Malacandra', 'Jupiter', 'Saturn', 'Uranus', 'Neptune']\n"
          ]
        }
      ]
    },
    {
      "cell_type": "code",
      "source": [
        "# That was silly. Let's give them back their old names\n",
        "planets[:4] = ['Mercury', 'Venus', 'Earth', 'Mars',]\n",
        "\n",
        "planets"
      ],
      "metadata": {
        "id": "t9L8hpQ0lH2D",
        "outputId": "39f89180-cf80-4509-8725-62c690b77698",
        "colab": {
          "base_uri": "https://localhost:8080/"
        }
      },
      "execution_count": 45,
      "outputs": [
        {
          "output_type": "execute_result",
          "data": {
            "text/plain": [
              "['Mercury', 'Venus', 'Earth', 'Mars', 'Jupiter', 'Saturn', 'Uranus', 'Neptune']"
            ]
          },
          "metadata": {},
          "execution_count": 45
        }
      ]
    },
    {
      "cell_type": "markdown",
      "source": [
        "# Funciones para Listas"
      ],
      "metadata": {
        "id": "J6D0xWvplg87"
      }
    },
    {
      "cell_type": "code",
      "source": [
        "# How many planets are there?\n",
        "\n",
        "len(planets)"
      ],
      "metadata": {
        "id": "cBbyrLTgljda",
        "outputId": "d6c4ac5e-95c6-4e26-b97b-4c880627d898",
        "colab": {
          "base_uri": "https://localhost:8080/"
        }
      },
      "execution_count": 46,
      "outputs": [
        {
          "output_type": "execute_result",
          "data": {
            "text/plain": [
              "8"
            ]
          },
          "metadata": {},
          "execution_count": 46
        }
      ]
    },
    {
      "cell_type": "code",
      "source": [
        "# The planets sorted in alphabetical order\n",
        "\n",
        "sorted(planets)"
      ],
      "metadata": {
        "id": "aDWZmx5plyNy",
        "outputId": "3ba134eb-f9a9-4b65-e8cf-393ab87e9b24",
        "colab": {
          "base_uri": "https://localhost:8080/"
        }
      },
      "execution_count": 47,
      "outputs": [
        {
          "output_type": "execute_result",
          "data": {
            "text/plain": [
              "['Earth', 'Jupiter', 'Mars', 'Mercury', 'Neptune', 'Saturn', 'Uranus', 'Venus']"
            ]
          },
          "metadata": {},
          "execution_count": 47
        }
      ]
    },
    {
      "cell_type": "code",
      "source": [
        "primes = [2, 3, 5, 7]\n",
        "\n",
        "sum(primes)"
      ],
      "metadata": {
        "id": "0EBwKbX1l3Za",
        "outputId": "c1854cdb-c439-4f9b-870f-128531db4ea4",
        "colab": {
          "base_uri": "https://localhost:8080/"
        }
      },
      "execution_count": 48,
      "outputs": [
        {
          "output_type": "execute_result",
          "data": {
            "text/plain": [
              "17"
            ]
          },
          "metadata": {},
          "execution_count": 48
        }
      ]
    },
    {
      "cell_type": "code",
      "source": [
        "max(primes)"
      ],
      "metadata": {
        "id": "hN8scnoXmFsq",
        "outputId": "ccaed0d3-48d9-4162-93cd-d85325a97d7b",
        "colab": {
          "base_uri": "https://localhost:8080/"
        }
      },
      "execution_count": 49,
      "outputs": [
        {
          "output_type": "execute_result",
          "data": {
            "text/plain": [
              "7"
            ]
          },
          "metadata": {},
          "execution_count": 49
        }
      ]
    },
    {
      "cell_type": "code",
      "source": [
        "min(primes)"
      ],
      "metadata": {
        "id": "j2iw4lmXmHea",
        "outputId": "5680cb9d-4962-4bbd-fcad-d7e5ce3b68c6",
        "colab": {
          "base_uri": "https://localhost:8080/"
        }
      },
      "execution_count": 50,
      "outputs": [
        {
          "output_type": "execute_result",
          "data": {
            "text/plain": [
              "2"
            ]
          },
          "metadata": {},
          "execution_count": 50
        }
      ]
    },
    {
      "cell_type": "markdown",
      "source": [
        "# Listas como objetos\n",
        "\n",
        "Las listas cuentan con una gran cantidad de métodos para su manipulación commo objetos."
      ],
      "metadata": {
        "id": "aVvR2TjsmmcP"
      }
    },
    {
      "cell_type": "code",
      "source": [
        "# Pluto is a planet darn it!\n",
        "planets.append('Pluto')"
      ],
      "metadata": {
        "id": "mfyMcwwHmsDq"
      },
      "execution_count": 51,
      "outputs": []
    },
    {
      "cell_type": "code",
      "source": [
        "planets"
      ],
      "metadata": {
        "id": "d1Lhn3uGmx0M",
        "outputId": "c71d6c49-c297-4083-a708-0071e644df9c",
        "colab": {
          "base_uri": "https://localhost:8080/"
        }
      },
      "execution_count": 52,
      "outputs": [
        {
          "output_type": "execute_result",
          "data": {
            "text/plain": [
              "['Mercury',\n",
              " 'Venus',\n",
              " 'Earth',\n",
              " 'Mars',\n",
              " 'Jupiter',\n",
              " 'Saturn',\n",
              " 'Uranus',\n",
              " 'Neptune',\n",
              " 'Pluto']"
            ]
          },
          "metadata": {},
          "execution_count": 52
        }
      ]
    },
    {
      "cell_type": "code",
      "source": [
        "planets.pop()"
      ],
      "metadata": {
        "id": "YfSz7rvynTtl",
        "outputId": "088c8249-8737-4157-8efe-b4cb63ef002f",
        "colab": {
          "base_uri": "https://localhost:8080/",
          "height": 36
        }
      },
      "execution_count": 53,
      "outputs": [
        {
          "output_type": "execute_result",
          "data": {
            "text/plain": [
              "'Pluto'"
            ],
            "application/vnd.google.colaboratory.intrinsic+json": {
              "type": "string"
            }
          },
          "metadata": {},
          "execution_count": 53
        }
      ]
    },
    {
      "cell_type": "code",
      "source": [
        "planets"
      ],
      "metadata": {
        "id": "87CAqFF6nWPD",
        "outputId": "77f1b99b-cd81-47a4-80bb-9cb3f6b28ca9",
        "colab": {
          "base_uri": "https://localhost:8080/"
        }
      },
      "execution_count": 54,
      "outputs": [
        {
          "output_type": "execute_result",
          "data": {
            "text/plain": [
              "['Mercury', 'Venus', 'Earth', 'Mars', 'Jupiter', 'Saturn', 'Uranus', 'Neptune']"
            ]
          },
          "metadata": {},
          "execution_count": 54
        }
      ]
    },
    {
      "cell_type": "markdown",
      "source": [
        "# Búsquedas en Listas"
      ],
      "metadata": {
        "id": "bPglYZjinjlR"
      }
    },
    {
      "cell_type": "code",
      "source": [
        "planets.index('Earth')"
      ],
      "metadata": {
        "id": "S0EdD_NWnl5y",
        "outputId": "66f9e7e3-27ab-46a7-ee71-c5f633bcf283",
        "colab": {
          "base_uri": "https://localhost:8080/"
        }
      },
      "execution_count": 55,
      "outputs": [
        {
          "output_type": "execute_result",
          "data": {
            "text/plain": [
              "2"
            ]
          },
          "metadata": {},
          "execution_count": 55
        }
      ]
    },
    {
      "cell_type": "code",
      "source": [
        "# Is Earth a planet?\n",
        "\n",
        "\"Earth\" in planets"
      ],
      "metadata": {
        "id": "dYaTyeu3n7py",
        "outputId": "141fe49e-fca1-4fe3-c904-4cdcce90d76d",
        "colab": {
          "base_uri": "https://localhost:8080/"
        }
      },
      "execution_count": 56,
      "outputs": [
        {
          "output_type": "execute_result",
          "data": {
            "text/plain": [
              "True"
            ]
          },
          "metadata": {},
          "execution_count": 56
        }
      ]
    },
    {
      "cell_type": "code",
      "source": [
        "# Is Calbefraques a planet?\n",
        "\n",
        "\"Calbefraques\" in planets"
      ],
      "metadata": {
        "id": "Wl204yW8oDpB",
        "outputId": "97ef5cd0-e908-400d-f543-f3e96a6e4eb3",
        "colab": {
          "base_uri": "https://localhost:8080/"
        }
      },
      "execution_count": 57,
      "outputs": [
        {
          "output_type": "execute_result",
          "data": {
            "text/plain": [
              "False"
            ]
          },
          "metadata": {},
          "execution_count": 57
        }
      ]
    },
    {
      "cell_type": "markdown",
      "source": [
        "# Tuplas\n",
        "\n",
        "Una tupla es un tipo de colección semejante a las listas, pero que es inmutable. Además utiliza paréntesis para representar sus datos."
      ],
      "metadata": {
        "id": "fY6HJ1v2oMRJ"
      }
    },
    {
      "cell_type": "code",
      "source": [
        "t = (1, 2, 3)\n",
        "\n",
        "t"
      ],
      "metadata": {
        "id": "5ZTaoAvXoVjC",
        "outputId": "bce5394b-f908-4fd2-83d6-fbc02c010860",
        "colab": {
          "base_uri": "https://localhost:8080/"
        }
      },
      "execution_count": 61,
      "outputs": [
        {
          "output_type": "execute_result",
          "data": {
            "text/plain": [
              "(1, 2, 3)"
            ]
          },
          "metadata": {},
          "execution_count": 61
        }
      ]
    },
    {
      "cell_type": "code",
      "source": [
        "x = 0.125\n",
        "\n",
        "x.as_integer_ratio()"
      ],
      "metadata": {
        "id": "GaSboLO0o1MB",
        "outputId": "d427a930-f985-40f0-c86d-24868e3e8567",
        "colab": {
          "base_uri": "https://localhost:8080/"
        }
      },
      "execution_count": 62,
      "outputs": [
        {
          "output_type": "execute_result",
          "data": {
            "text/plain": [
              "(1, 8)"
            ]
          },
          "metadata": {},
          "execution_count": 62
        }
      ]
    },
    {
      "cell_type": "code",
      "source": [
        "numerator, denominator = x.as_integer_ratio()\n",
        "\n",
        "print(numerator / denominator)"
      ],
      "metadata": {
        "id": "6ihN0AkSpDzJ",
        "outputId": "a7177fbf-2343-4067-b115-d31fb771caf9",
        "colab": {
          "base_uri": "https://localhost:8080/"
        }
      },
      "execution_count": 63,
      "outputs": [
        {
          "output_type": "stream",
          "name": "stdout",
          "text": [
            "0.125\n"
          ]
        }
      ]
    },
    {
      "cell_type": "code",
      "source": [
        "a = 1\n",
        "b = 0\n",
        "a, b = b, a\n",
        "print(a, b)"
      ],
      "metadata": {
        "id": "R582O1HupXqx",
        "outputId": "4b509eb3-799b-404e-df41-a8a08e077ba2",
        "colab": {
          "base_uri": "https://localhost:8080/"
        }
      },
      "execution_count": 64,
      "outputs": [
        {
          "output_type": "stream",
          "name": "stdout",
          "text": [
            "0 1\n"
          ]
        }
      ]
    }
  ]
}